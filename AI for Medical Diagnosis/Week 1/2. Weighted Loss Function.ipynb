{
 "cells": [
  {
   "cell_type": "markdown",
   "metadata": {
    "id": "qBgyJnC-wRnz"
   },
   "source": [
    "# Counting Labels & Weighted Loss Function\n",
    "\n",
    "As you saw in the lecture videos, one way to avoid having class imbalance impact the loss function is to weight the losses differently.  To choose the weights, you first need to calculate the class frequencies.\n",
    "\n",
    "For this exercise, you'll just get the count of each label.  Later on, you'll use the concepts practiced here to calculate frequencies in the assignment!"
   ]
  },
  {
   "cell_type": "markdown",
   "metadata": {
    "id": "9gU5JyUSwRn8"
   },
   "source": [
    "As before, calculate the two terms that make up the loss function.  Notice that you are working with more than one class (represented by columns).  In this case, there are two classes.\n",
    "\n",
    "Start by calculating the loss for class `0`.\n",
    "\n",
    "$$ loss^{(i)} = loss_{pos}^{(i)} + los_{neg}^{(i)} $$\n",
    "\n",
    "$$loss_{pos}^{(i)} = -1 \\times weight_{pos}^{(i)} \\times y^{(i)} \\times log(\\hat{y}^{(i)})$$\n",
    "\n",
    "$$loss_{neg}^{(i)} = -1 \\times weight_{neg}^{(i)} \\times (1- y^{(i)}) \\times log(1 - \\hat{y}^{(i)})$$"
   ]
  },
  {
   "cell_type": "markdown",
   "metadata": {},
   "source": [
    "# Compute class weights with scikit learn"
   ]
  },
  {
   "cell_type": "code",
   "execution_count": 1,
   "metadata": {},
   "outputs": [],
   "source": [
    "import os\n",
    "import sklearn\n",
    "import numpy as np\n",
    "import pandas as pd\n",
    "import seaborn as sns\n",
    "import tensorflow as tf\n",
    "from pprint import pprint\n",
    "import matplotlib.pyplot as plt"
   ]
  },
  {
   "cell_type": "markdown",
   "metadata": {},
   "source": [
    "## Create text labels"
   ]
  },
  {
   "cell_type": "code",
   "execution_count": 2,
   "metadata": {},
   "outputs": [
    {
     "data": {
      "text/plain": [
       "['Atelectasis',\n",
       " 'Cardiomegaly',\n",
       " 'Consolidation',\n",
       " 'Edema',\n",
       " 'Effusion',\n",
       " 'Emphysema',\n",
       " 'Fibrosis',\n",
       " 'Hernia',\n",
       " 'Infiltration',\n",
       " 'Mass',\n",
       " 'Nodule',\n",
       " 'Pleural_Thickening',\n",
       " 'Pneumonia',\n",
       " 'Pneumothorax']"
      ]
     },
     "execution_count": 2,
     "metadata": {},
     "output_type": "execute_result"
    }
   ],
   "source": [
    "train_df = pd.read_csv(\"data/nih/train-small.csv\")\n",
    "valid_df = pd.read_csv(\"data/nih/valid-small.csv\")\n",
    "test_df  = pd.read_csv(\"data/nih/test.csv\")\n",
    "\n",
    "labels_text = list(train_df.drop(['Image','PatientId'], axis=1).columns)\n",
    "labels_text"
   ]
  },
  {
   "cell_type": "markdown",
   "metadata": {},
   "source": [
    "## Create datasets in Numpy instead of Tensorflow"
   ]
  },
  {
   "cell_type": "code",
   "execution_count": 3,
   "metadata": {},
   "outputs": [],
   "source": [
    "X_train            = []\n",
    "image_dir          = \"data/nih/images-small/\"\n",
    "target_w, target_h = 320, 320\n",
    "batch_size         = 16\n",
    "\n",
    "for i in range(len(train_df['Image'])):\n",
    "    image = tf.keras.preprocessing.image.load_img(os.path.join(image_dir, train_df['Image'].iloc[i]), target_size=(target_w, target_h))\n",
    "    image = tf.keras.preprocessing.image.img_to_array(image)\n",
    "    X_train.append(image)\n",
    "\n",
    "X_train = np.array(X_train).astype(np.float32)\n",
    "\n",
    "y_train = train_df[labels_text].values.astype(np.int32)  # Get the multi-label output\n",
    "\n",
    "X_valid = []\n",
    "for i in range(len(valid_df['Image'])):\n",
    "    image = tf.keras.preprocessing.image.load_img(os.path.join(image_dir, valid_df['Image'].iloc[i]), target_size=(target_w, target_h))\n",
    "    image = tf.keras.preprocessing.image.img_to_array(image)\n",
    "    X_valid.append(image)\n",
    "\n",
    "X_valid = np.array(X_valid).astype(np.float32)\n",
    "\n",
    "y_valid = valid_df[labels_text].values.astype(np.int32)  # Get the multi-label output\n",
    "\n",
    "X_test = []\n",
    "\n",
    "for i in range(len(test_df['Image'])):\n",
    "    image = tf.keras.preprocessing.image.load_img(os.path.join(image_dir, train_df['Image'].iloc[i]), target_size=(target_w, target_h))\n",
    "    image = tf.keras.preprocessing.image.img_to_array(image)\n",
    "    X_test.append(image)\n",
    "\n",
    "X_test = np.array(X_test).astype(np.float32)\n",
    "\n",
    "y_test = test_df[labels_text].values.astype(np.int32)  # Get the multi-label output"
   ]
  },
  {
   "cell_type": "markdown",
   "metadata": {},
   "source": [
    "## Calculate class weights and sample weights"
   ]
  },
  {
   "cell_type": "code",
   "execution_count": 4,
   "metadata": {},
   "outputs": [
    {
     "name": "stdout",
     "output_type": "stream",
     "text": [
      "class_weights:\n",
      "len(class_weights) = 2\n",
      "array([ 0.51975052, 13.15789474])\n",
      "\n",
      "class_weights_dict:\n",
      "{'Atelectasis': {0: 0.5592841163310962, 1: 4.716981132075472},\n",
      " 'Cardiomegaly': {0: 0.5102040816326531, 1: 25.0},\n",
      " 'Consolidation': {0: 0.5170630816959669, 1: 15.151515151515152},\n",
      " 'Edema': {0: 0.508130081300813, 1: 31.25},\n",
      " 'Effusion': {0: 0.573394495412844, 1: 3.90625},\n",
      " 'Emphysema': {0: 0.5065856129685917, 1: 38.46153846153846},\n",
      " 'Fibrosis': {0: 0.5070993914807302, 1: 35.714285714285715},\n",
      " 'Hernia': {0: 0.501002004008016, 1: 250.0},\n",
      " 'Infiltration': {0: 0.6060606060606061, 1: 2.857142857142857},\n",
      " 'Mass': {0: 0.5235602094240838, 1: 11.11111111111111},\n",
      " 'Nodule': {0: 0.5285412262156448, 1: 9.25925925925926},\n",
      " 'Pleural_Thickening': {0: 0.5107252298263534, 1: 23.80952380952381},\n",
      " 'Pneumonia': {0: 0.5050505050505051, 1: 50.0},\n",
      " 'Pneumothorax': {0: 0.5197505197505198, 1: 13.157894736842104}}\n",
      "\n",
      "sample_weights:\n",
      "len(X_train) = 1000        X_train.shape = (1000, 320, 320, 3)\n",
      "len(sample_weights) = 1000 sample_weights.shape = (1000,)\n",
      "\n",
      "array([1.24397710e-04, 3.36950770e-02, 5.79930276e-03, 1.24397710e-04,\n",
      "       5.86446346e-04, 1.65105877e+00, 1.24397710e-04, 1.24397710e-04,\n",
      "       1.24397710e-04, 1.24397710e-04, 3.14922623e-03, 1.24397710e-04])\n"
     ]
    }
   ],
   "source": [
    "# Step 1: Calculate class weights for each label column\n",
    "class_weights_dict = {}\n",
    "for label in labels_text:\n",
    "    label_values  = train_df[label].values\n",
    "    class_weights = sklearn.utils.class_weight.compute_class_weight(\n",
    "                                                                    class_weight='balanced',\n",
    "                                                                    classes=np.unique(label_values),\n",
    "                                                                    y=label_values\n",
    "                                                                )\n",
    "    class_weights_dict[label] = dict(zip(np.unique(label_values), class_weights))\n",
    "\n",
    "print(\"class_weights:\")\n",
    "print(f\"{len(class_weights) = }\")\n",
    "pprint(class_weights)\n",
    "print(\"\\nclass_weights_dict:\")\n",
    "pprint(class_weights_dict)\n",
    "\n",
    "# Step 2: Create sample weights based on class weights for each label column\n",
    "sample_weights = np.ones(y_train.shape[0])  # Start with weights of 1 for each sample\n",
    "\n",
    "# Apply weights for each class column\n",
    "for i, label in enumerate(labels_text):\n",
    "    class_weights = class_weights_dict[label]\n",
    "    # Multiply sample weights by the class weights for the label\n",
    "    sample_weights *= np.where(y_train[:, i] == 1, class_weights[1], class_weights[0])\n",
    "\n",
    "print(\"\\nsample_weights:\")\n",
    "print(f\"{len(X_train) = }        {X_train.shape = }\")\n",
    "print(f\"{len(sample_weights) = } {sample_weights.shape = }\\n\")\n",
    "pprint(sample_weights[:12])\n",
    "\n",
    "# Get a list of the 0 weights\n",
    "zero_weights = [weights[0] for weights in class_weights_dict.values()]\n",
    "\n",
    "# Get a list of the 1 weights\n",
    "one_weights = [weights[1] for weights in class_weights_dict.values()]"
   ]
  },
  {
   "cell_type": "markdown",
   "metadata": {},
   "source": [
    "## If you multiply the class weights times the number of 0s and 1s, this is what you get\n",
    "\n",
    "Which makes more sense to me than setting the positive and negative contributions equal to each other in some mystical way as is done in the example in the course"
   ]
  },
  {
   "cell_type": "code",
   "execution_count": 5,
   "metadata": {},
   "outputs": [
    {
     "name": "stdout",
     "output_type": "stream",
     "text": [
      "                 Class  Weighted_Zero_Count  Weighted_One_Count\n",
      "0          Atelectasis                500.0               500.0\n",
      "1         Cardiomegaly                500.0               500.0\n",
      "2        Consolidation                500.0               500.0\n",
      "3                Edema                500.0               500.0\n",
      "4             Effusion                500.0               500.0\n",
      "5            Emphysema                500.0               500.0\n",
      "6             Fibrosis                500.0               500.0\n",
      "7               Hernia                500.0               500.0\n",
      "8         Infiltration                500.0               500.0\n",
      "9                 Mass                500.0               500.0\n",
      "10              Nodule                500.0               500.0\n",
      "11  Pleural_Thickening                500.0               500.0\n",
      "12           Pneumonia                500.0               500.0\n",
      "13        Pneumothorax                500.0               500.0\n"
     ]
    }
   ],
   "source": [
    "weighted_zeros = {}\n",
    "weighted_ones = {}\n",
    "\n",
    "# Iterate through each class in the weights dictionary\n",
    "for class_name, weights in class_weights_dict.items():\n",
    "    # Get the column from the DataFrame\n",
    "    class_column = train_df[class_name]\n",
    "\n",
    "    # Count the number of 0s and 1s\n",
    "    counts = class_column.value_counts()\n",
    "\n",
    "    # Get the count of 0s and 1s, defaulting to 0 if not found\n",
    "    num_zeros = counts.get(0, 0)\n",
    "    num_ones = counts.get(1, 0)\n",
    "\n",
    "    # Calculate the weighted counts for 0s and 1s separately\n",
    "    weighted_zeros[class_name] = num_zeros * weights[0]\n",
    "    weighted_ones[class_name]  = num_ones * weights[1]\n",
    "\n",
    "# Create a combined DataFrame\n",
    "combined_counts_df = pd.DataFrame({\n",
    "    'Class': list(weighted_zeros.keys()),\n",
    "    'Weighted_Zero_Count': list(weighted_zeros.values()),\n",
    "    'Weighted_One_Count': list(weighted_ones.values())\n",
    "})\n",
    "\n",
    "# Display the combined DataFrame\n",
    "print(combined_counts_df)"
   ]
  },
  {
   "cell_type": "markdown",
   "metadata": {},
   "source": [
    "# Try (and fail) to reproduce the analysis in the class notebook"
   ]
  },
  {
   "cell_type": "code",
   "execution_count": 6,
   "metadata": {},
   "outputs": [
    {
     "data": {
      "text/plain": [
       "Atelectasis           106\n",
       "Cardiomegaly           20\n",
       "Consolidation          33\n",
       "Edema                  16\n",
       "Effusion              128\n",
       "Emphysema              13\n",
       "Fibrosis               14\n",
       "Hernia                  2\n",
       "Infiltration          175\n",
       "Mass                   45\n",
       "Nodule                 54\n",
       "Pleural_Thickening     21\n",
       "Pneumonia              10\n",
       "Pneumothorax           38\n",
       "dtype: int64"
      ]
     },
     "metadata": {},
     "output_type": "display_data"
    }
   ],
   "source": [
    "class_counts = train_df.loc[:,labels_text].sum()\n",
    "display(class_counts)"
   ]
  },
  {
   "cell_type": "code",
   "execution_count": 7,
   "metadata": {},
   "outputs": [
    {
     "name": "stdout",
     "output_type": "stream",
     "text": [
      "labels_numeric.shape = (1000, 14)\n"
     ]
    }
   ],
   "source": [
    "labels_numeric = train_df.loc[:,labels_text]\n",
    "print(f\"{labels_numeric.shape = }\")\n",
    "\n",
    "positive_frequencies =     np.sum(labels_numeric / labels_numeric.shape[0] ,axis=0)\n",
    "negative_frequencies = 1 - np.sum(labels_numeric / labels_numeric.shape[0] ,axis=0)"
   ]
  },
  {
   "cell_type": "code",
   "execution_count": 8,
   "metadata": {},
   "outputs": [
    {
     "data": {
      "image/png": "[encoded data removed]",
      "text/plain": [
       "<Figure size 640x480 with 1 Axes>"
      ]
     },
     "metadata": {},
     "output_type": "display_data"
    }
   ],
   "source": [
    "data = pd.DataFrame({\"Class\": labels_text, \"Label\": \"Positive\", \"Value\": positive_frequencies})\n",
    "data = pd.concat([data, pd.DataFrame([{\"Class\": labels_text[l], \"Label\": \"Negative\", \"Value\": v} for l, v in enumerate(negative_frequencies)])], ignore_index=True)\n",
    "plt.xticks(rotation=90)\n",
    "sns.barplot(x=\"Class\", y=\"Value\", hue=\"Label\" ,data=data)\n",
    "\n",
    "plt.show()"
   ]
  },
  {
   "cell_type": "markdown",
   "metadata": {},
   "source": [
    "### What the fuck this means, I do not know"
   ]
  },
  {
   "cell_type": "code",
   "execution_count": 9,
   "metadata": {},
   "outputs": [],
   "source": [
    "freq_pos =     np.sum(labels_numeric / labels_numeric.shape[0] ,axis=0)\n",
    "freq_neg = 1 - np.sum(labels_numeric / labels_numeric.shape[0] ,axis=0)\n",
    "\n",
    "pos_weights = freq_neg\n",
    "neg_weights = freq_pos\n",
    "pos_contribution = freq_pos * pos_weights \n",
    "neg_contribution = freq_neg * neg_weights"
   ]
  },
  {
   "cell_type": "code",
   "execution_count": 10,
   "metadata": {},
   "outputs": [],
   "source": [
    "# Calculate positive and negative weights\n",
    "w_p = np.sum(labels_numeric == 0, axis=0) / labels_numeric.shape[0]\n",
    "w_n = np.sum(labels_numeric == 1, axis=0) / labels_numeric.shape[0]"
   ]
  },
  {
   "cell_type": "code",
   "execution_count": 18,
   "metadata": {},
   "outputs": [
    {
     "name": "stdout",
     "output_type": "stream",
     "text": [
      "w_p      =     np.sum(labels_numeric == 0, axis=0) / labels_numeric.shape[0]\n",
      "w_n      =     np.sum(labels_numeric == 1, axis=0) / labels_numeric.shape[0]\n",
      "\n",
      "freq_pos =     np.sum(labels_numeric / labels_numeric.shape[0] ,axis=0)\n",
      "freq_neg = 1 - np.sum(labels_numeric / labels_numeric.shape[0] ,axis=0)\n",
      "\n",
      "w_p == freq_neg, w_n == freq_pos\n",
      "\n"
     ]
    },
    {
     "data": {
      "text/html": [
       "<div>\n",
       "<style scoped>\n",
       "    .dataframe tbody tr th:only-of-type {\n",
       "        vertical-align: middle;\n",
       "    }\n",
       "\n",
       "    .dataframe tbody tr th {\n",
       "        vertical-align: top;\n",
       "    }\n",
       "\n",
       "    .dataframe thead th {\n",
       "        text-align: right;\n",
       "    }\n",
       "</style>\n",
       "<table border=\"1\" class=\"dataframe\">\n",
       "  <thead>\n",
       "    <tr style=\"text-align: right;\">\n",
       "      <th></th>\n",
       "      <th>ones</th>\n",
       "      <th>zeros</th>\n",
       "      <th>freq_pos</th>\n",
       "      <th>freq_neg</th>\n",
       "      <th>freq_pos * freq_neg</th>\n",
       "      <th>pos_contrib</th>\n",
       "      <th>neg_contrib</th>\n",
       "      <th>w_p</th>\n",
       "      <th>w_n</th>\n",
       "      <th>w_p * w_n</th>\n",
       "      <th>one_weights</th>\n",
       "      <th>zero_weights</th>\n",
       "    </tr>\n",
       "  </thead>\n",
       "  <tbody>\n",
       "    <tr>\n",
       "      <th>Atelectasis</th>\n",
       "      <td>106</td>\n",
       "      <td>894</td>\n",
       "      <td>0.106</td>\n",
       "      <td>0.894</td>\n",
       "      <td>0.094764</td>\n",
       "      <td>0.094764</td>\n",
       "      <td>0.094764</td>\n",
       "      <td>0.894</td>\n",
       "      <td>0.106</td>\n",
       "      <td>0.094764</td>\n",
       "      <td>4.716981</td>\n",
       "      <td>0.559284</td>\n",
       "    </tr>\n",
       "    <tr>\n",
       "      <th>Cardiomegaly</th>\n",
       "      <td>20</td>\n",
       "      <td>980</td>\n",
       "      <td>0.020</td>\n",
       "      <td>0.980</td>\n",
       "      <td>0.019600</td>\n",
       "      <td>0.019600</td>\n",
       "      <td>0.019600</td>\n",
       "      <td>0.980</td>\n",
       "      <td>0.020</td>\n",
       "      <td>0.019600</td>\n",
       "      <td>25.000000</td>\n",
       "      <td>0.510204</td>\n",
       "    </tr>\n",
       "    <tr>\n",
       "      <th>Consolidation</th>\n",
       "      <td>33</td>\n",
       "      <td>967</td>\n",
       "      <td>0.033</td>\n",
       "      <td>0.967</td>\n",
       "      <td>0.031911</td>\n",
       "      <td>0.031911</td>\n",
       "      <td>0.031911</td>\n",
       "      <td>0.967</td>\n",
       "      <td>0.033</td>\n",
       "      <td>0.031911</td>\n",
       "      <td>15.151515</td>\n",
       "      <td>0.517063</td>\n",
       "    </tr>\n",
       "    <tr>\n",
       "      <th>Edema</th>\n",
       "      <td>16</td>\n",
       "      <td>984</td>\n",
       "      <td>0.016</td>\n",
       "      <td>0.984</td>\n",
       "      <td>0.015744</td>\n",
       "      <td>0.015744</td>\n",
       "      <td>0.015744</td>\n",
       "      <td>0.984</td>\n",
       "      <td>0.016</td>\n",
       "      <td>0.015744</td>\n",
       "      <td>31.250000</td>\n",
       "      <td>0.508130</td>\n",
       "    </tr>\n",
       "    <tr>\n",
       "      <th>Effusion</th>\n",
       "      <td>128</td>\n",
       "      <td>872</td>\n",
       "      <td>0.128</td>\n",
       "      <td>0.872</td>\n",
       "      <td>0.111616</td>\n",
       "      <td>0.111616</td>\n",
       "      <td>0.111616</td>\n",
       "      <td>0.872</td>\n",
       "      <td>0.128</td>\n",
       "      <td>0.111616</td>\n",
       "      <td>3.906250</td>\n",
       "      <td>0.573394</td>\n",
       "    </tr>\n",
       "    <tr>\n",
       "      <th>Emphysema</th>\n",
       "      <td>13</td>\n",
       "      <td>987</td>\n",
       "      <td>0.013</td>\n",
       "      <td>0.987</td>\n",
       "      <td>0.012831</td>\n",
       "      <td>0.012831</td>\n",
       "      <td>0.012831</td>\n",
       "      <td>0.987</td>\n",
       "      <td>0.013</td>\n",
       "      <td>0.012831</td>\n",
       "      <td>38.461538</td>\n",
       "      <td>0.506586</td>\n",
       "    </tr>\n",
       "    <tr>\n",
       "      <th>Fibrosis</th>\n",
       "      <td>14</td>\n",
       "      <td>986</td>\n",
       "      <td>0.014</td>\n",
       "      <td>0.986</td>\n",
       "      <td>0.013804</td>\n",
       "      <td>0.013804</td>\n",
       "      <td>0.013804</td>\n",
       "      <td>0.986</td>\n",
       "      <td>0.014</td>\n",
       "      <td>0.013804</td>\n",
       "      <td>35.714286</td>\n",
       "      <td>0.507099</td>\n",
       "    </tr>\n",
       "    <tr>\n",
       "      <th>Hernia</th>\n",
       "      <td>2</td>\n",
       "      <td>998</td>\n",
       "      <td>0.002</td>\n",
       "      <td>0.998</td>\n",
       "      <td>0.001996</td>\n",
       "      <td>0.001996</td>\n",
       "      <td>0.001996</td>\n",
       "      <td>0.998</td>\n",
       "      <td>0.002</td>\n",
       "      <td>0.001996</td>\n",
       "      <td>250.000000</td>\n",
       "      <td>0.501002</td>\n",
       "    </tr>\n",
       "    <tr>\n",
       "      <th>Infiltration</th>\n",
       "      <td>175</td>\n",
       "      <td>825</td>\n",
       "      <td>0.175</td>\n",
       "      <td>0.825</td>\n",
       "      <td>0.144375</td>\n",
       "      <td>0.144375</td>\n",
       "      <td>0.144375</td>\n",
       "      <td>0.825</td>\n",
       "      <td>0.175</td>\n",
       "      <td>0.144375</td>\n",
       "      <td>2.857143</td>\n",
       "      <td>0.606061</td>\n",
       "    </tr>\n",
       "    <tr>\n",
       "      <th>Mass</th>\n",
       "      <td>45</td>\n",
       "      <td>955</td>\n",
       "      <td>0.045</td>\n",
       "      <td>0.955</td>\n",
       "      <td>0.042975</td>\n",
       "      <td>0.042975</td>\n",
       "      <td>0.042975</td>\n",
       "      <td>0.955</td>\n",
       "      <td>0.045</td>\n",
       "      <td>0.042975</td>\n",
       "      <td>11.111111</td>\n",
       "      <td>0.523560</td>\n",
       "    </tr>\n",
       "    <tr>\n",
       "      <th>Nodule</th>\n",
       "      <td>54</td>\n",
       "      <td>946</td>\n",
       "      <td>0.054</td>\n",
       "      <td>0.946</td>\n",
       "      <td>0.051084</td>\n",
       "      <td>0.051084</td>\n",
       "      <td>0.051084</td>\n",
       "      <td>0.946</td>\n",
       "      <td>0.054</td>\n",
       "      <td>0.051084</td>\n",
       "      <td>9.259259</td>\n",
       "      <td>0.528541</td>\n",
       "    </tr>\n",
       "    <tr>\n",
       "      <th>Pleural_Thickening</th>\n",
       "      <td>21</td>\n",
       "      <td>979</td>\n",
       "      <td>0.021</td>\n",
       "      <td>0.979</td>\n",
       "      <td>0.020559</td>\n",
       "      <td>0.020559</td>\n",
       "      <td>0.020559</td>\n",
       "      <td>0.979</td>\n",
       "      <td>0.021</td>\n",
       "      <td>0.020559</td>\n",
       "      <td>23.809524</td>\n",
       "      <td>0.510725</td>\n",
       "    </tr>\n",
       "    <tr>\n",
       "      <th>Pneumonia</th>\n",
       "      <td>10</td>\n",
       "      <td>990</td>\n",
       "      <td>0.010</td>\n",
       "      <td>0.990</td>\n",
       "      <td>0.009900</td>\n",
       "      <td>0.009900</td>\n",
       "      <td>0.009900</td>\n",
       "      <td>0.990</td>\n",
       "      <td>0.010</td>\n",
       "      <td>0.009900</td>\n",
       "      <td>50.000000</td>\n",
       "      <td>0.505051</td>\n",
       "    </tr>\n",
       "    <tr>\n",
       "      <th>Pneumothorax</th>\n",
       "      <td>38</td>\n",
       "      <td>962</td>\n",
       "      <td>0.038</td>\n",
       "      <td>0.962</td>\n",
       "      <td>0.036556</td>\n",
       "      <td>0.036556</td>\n",
       "      <td>0.036556</td>\n",
       "      <td>0.962</td>\n",
       "      <td>0.038</td>\n",
       "      <td>0.036556</td>\n",
       "      <td>13.157895</td>\n",
       "      <td>0.519751</td>\n",
       "    </tr>\n",
       "  </tbody>\n",
       "</table>\n",
       "</div>"
      ],
      "text/plain": [
       "                    ones  zeros  freq_pos  freq_neg  freq_pos * freq_neg  \\\n",
       "Atelectasis          106    894     0.106     0.894             0.094764   \n",
       "Cardiomegaly          20    980     0.020     0.980             0.019600   \n",
       "Consolidation         33    967     0.033     0.967             0.031911   \n",
       "Edema                 16    984     0.016     0.984             0.015744   \n",
       "Effusion             128    872     0.128     0.872             0.111616   \n",
       "Emphysema             13    987     0.013     0.987             0.012831   \n",
       "Fibrosis              14    986     0.014     0.986             0.013804   \n",
       "Hernia                 2    998     0.002     0.998             0.001996   \n",
       "Infiltration         175    825     0.175     0.825             0.144375   \n",
       "Mass                  45    955     0.045     0.955             0.042975   \n",
       "Nodule                54    946     0.054     0.946             0.051084   \n",
       "Pleural_Thickening    21    979     0.021     0.979             0.020559   \n",
       "Pneumonia             10    990     0.010     0.990             0.009900   \n",
       "Pneumothorax          38    962     0.038     0.962             0.036556   \n",
       "\n",
       "                    pos_contrib  neg_contrib    w_p    w_n  w_p * w_n  \\\n",
       "Atelectasis            0.094764     0.094764  0.894  0.106   0.094764   \n",
       "Cardiomegaly           0.019600     0.019600  0.980  0.020   0.019600   \n",
       "Consolidation          0.031911     0.031911  0.967  0.033   0.031911   \n",
       "Edema                  0.015744     0.015744  0.984  0.016   0.015744   \n",
       "Effusion               0.111616     0.111616  0.872  0.128   0.111616   \n",
       "Emphysema              0.012831     0.012831  0.987  0.013   0.012831   \n",
       "Fibrosis               0.013804     0.013804  0.986  0.014   0.013804   \n",
       "Hernia                 0.001996     0.001996  0.998  0.002   0.001996   \n",
       "Infiltration           0.144375     0.144375  0.825  0.175   0.144375   \n",
       "Mass                   0.042975     0.042975  0.955  0.045   0.042975   \n",
       "Nodule                 0.051084     0.051084  0.946  0.054   0.051084   \n",
       "Pleural_Thickening     0.020559     0.020559  0.979  0.021   0.020559   \n",
       "Pneumonia              0.009900     0.009900  0.990  0.010   0.009900   \n",
       "Pneumothorax           0.036556     0.036556  0.962  0.038   0.036556   \n",
       "\n",
       "                    one_weights  zero_weights  \n",
       "Atelectasis            4.716981      0.559284  \n",
       "Cardiomegaly          25.000000      0.510204  \n",
       "Consolidation         15.151515      0.517063  \n",
       "Edema                 31.250000      0.508130  \n",
       "Effusion               3.906250      0.573394  \n",
       "Emphysema             38.461538      0.506586  \n",
       "Fibrosis              35.714286      0.507099  \n",
       "Hernia               250.000000      0.501002  \n",
       "Infiltration           2.857143      0.606061  \n",
       "Mass                  11.111111      0.523560  \n",
       "Nodule                 9.259259      0.528541  \n",
       "Pleural_Thickening    23.809524      0.510725  \n",
       "Pneumonia             50.000000      0.505051  \n",
       "Pneumothorax          13.157895      0.519751  "
      ]
     },
     "metadata": {},
     "output_type": "display_data"
    }
   ],
   "source": [
    "print(\"w_p      =     np.sum(labels_numeric == 0, axis=0) / labels_numeric.shape[0]\")\n",
    "print(\"w_n      =     np.sum(labels_numeric == 1, axis=0) / labels_numeric.shape[0]\\n\")\n",
    "print(\"freq_pos =     np.sum(labels_numeric / labels_numeric.shape[0] ,axis=0)\")\n",
    "print(\"freq_neg = 1 - np.sum(labels_numeric / labels_numeric.shape[0] ,axis=0)\\n\")\n",
    "print(\"w_p == freq_neg, w_n == freq_pos\\n\")\n",
    "\n",
    "class_data = pd.DataFrame({\n",
    "    #'Class': list(weighted_zeros.keys()),\n",
    "    'ones': class_counts,\n",
    "    'zeros': 1000 - class_counts,\n",
    "    'freq_pos': list(freq_pos),\n",
    "    'freq_neg': list(freq_neg),\n",
    "    'freq_pos * freq_neg': freq_pos * freq_neg,\n",
    "    'pos_contrib': list(pos_contribution),\n",
    "    'neg_contrib': list(neg_contribution),\n",
    "    'w_p': list(w_p),\n",
    "    'w_n': list(w_n),\n",
    "    'w_p * w_n': list(w_p * w_n),\n",
    "    'one_weights': one_weights,\n",
    "    'zero_weights': zero_weights\n",
    "    \n",
    "})\n",
    "display(class_data)"
   ]
  },
  {
   "cell_type": "markdown",
   "metadata": {},
   "source": [
    "### whatever, looks like a tautology to me"
   ]
  },
  {
   "cell_type": "code",
   "execution_count": 12,
   "metadata": {},
   "outputs": [
    {
     "data": {
      "image/png": "[encoded data removed]",
      "text/plain": [
       "<Figure size 640x480 with 1 Axes>"
      ]
     },
     "metadata": {},
     "output_type": "display_data"
    }
   ],
   "source": [
    "data = pd.DataFrame({\"Class\": labels_text, \"Label\": \"Positive\", \"Value\": pos_contribution})\n",
    "new_rows = pd.DataFrame([{\"Class\": labels_text[l], \"Label\": \"Negative\", \"Value\": v}\n",
    "                         for l, v in enumerate(neg_contribution)])\n",
    "\n",
    "# Use pd.concat to combine DataFrames\n",
    "data = pd.concat([data, new_rows], ignore_index=True)\n",
    "plt.xticks(rotation=90)\n",
    "sns.barplot(x=\"Class\", y=\"Value\", hue=\"Label\" ,data=data);\n",
    "\n",
    "plt.show()"
   ]
  },
  {
   "cell_type": "markdown",
   "metadata": {},
   "source": [
    "## Train a basic CNN"
   ]
  },
  {
   "cell_type": "code",
   "execution_count": 13,
   "metadata": {},
   "outputs": [],
   "source": [
    "# Step 1: Create a Keras model \n",
    "def create_cnn():\n",
    "    model = tf.keras.models.Sequential([\n",
    "        tf.keras.layers.InputLayer(shape=(target_w, target_h, 3)),\n",
    "        tf.keras.layers.Rescaling(scale=1.0/255.0),\n",
    "        \n",
    "        tf.keras.layers.Conv2D(32, (3, 3), activation='relu'),\n",
    "        tf.keras.layers.MaxPooling2D((2, 2)),\n",
    "        \n",
    "        tf.keras.layers.Flatten(),\n",
    "        tf.keras.layers.Dropout(0.7),\n",
    "        \n",
    "        tf.keras.layers.Dense(14, activation='sigmoid')  # 14 output nodes for multi-label classification\n",
    "    ])\n",
    "    return model"
   ]
  },
  {
   "cell_type": "code",
   "execution_count": 14,
   "metadata": {},
   "outputs": [
    {
     "name": "stderr",
     "output_type": "stream",
     "text": [
      "2024-10-05 21:33:12.781984: I metal_plugin/src/device/metal_device.cc:1154] Metal device set to: Apple M1\n",
      "2024-10-05 21:33:12.782014: I metal_plugin/src/device/metal_device.cc:296] systemMemory: 16.00 GB\n",
      "2024-10-05 21:33:12.782019: I metal_plugin/src/device/metal_device.cc:313] maxCacheSize: 5.33 GB\n",
      "2024-10-05 21:33:12.782035: I tensorflow/core/common_runtime/pluggable_device/pluggable_device_factory.cc:305] Could not identify NUMA node of platform GPU ID 0, defaulting to 0. Your kernel may not have been built with NUMA support.\n",
      "2024-10-05 21:33:12.782044: I tensorflow/core/common_runtime/pluggable_device/pluggable_device_factory.cc:271] Created TensorFlow device (/job:localhost/replica:0/task:0/device:GPU:0 with 0 MB memory) -> physical PluggableDevice (device: 0, name: METAL, pci bus id: <undefined>)\n"
     ]
    },
    {
     "name": "stdout",
     "output_type": "stream",
     "text": [
      "Epoch 1/1000\n"
     ]
    },
    {
     "name": "stderr",
     "output_type": "stream",
     "text": [
      "2024-10-05 21:33:14.151890: I tensorflow/core/grappler/optimizers/custom_graph_optimizer_registry.cc:117] Plugin optimizer for device_type GPU is enabled.\n"
     ]
    },
    {
     "name": "stdout",
     "output_type": "stream",
     "text": [
      "\u001b[1m32/32\u001b[0m \u001b[32m━━━━━━━━━━━━━━━━━━━━\u001b[0m\u001b[37m\u001b[0m \u001b[1m8s\u001b[0m 232ms/step - accuracy: 0.1307 - loss: 4.0860 - val_accuracy: 0.0000e+00 - val_loss: 0.8693\n",
      "Epoch 2/1000\n",
      "\u001b[1m32/32\u001b[0m \u001b[32m━━━━━━━━━━━━━━━━━━━━\u001b[0m\u001b[37m\u001b[0m \u001b[1m7s\u001b[0m 209ms/step - accuracy: 0.1883 - loss: 0.3208 - val_accuracy: 0.0826 - val_loss: 1.0186\n",
      "Epoch 3/1000\n",
      "\u001b[1m32/32\u001b[0m \u001b[32m━━━━━━━━━━━━━━━━━━━━\u001b[0m\u001b[37m\u001b[0m \u001b[1m7s\u001b[0m 210ms/step - accuracy: 0.1151 - loss: 1.0824 - val_accuracy: 0.1468 - val_loss: 0.5613\n",
      "Epoch 4/1000\n",
      "\u001b[1m32/32\u001b[0m \u001b[32m━━━━━━━━━━━━━━━━━━━━\u001b[0m\u001b[37m\u001b[0m \u001b[1m7s\u001b[0m 211ms/step - accuracy: 0.0772 - loss: 0.5738 - val_accuracy: 0.0183 - val_loss: 1.7553\n",
      "Epoch 5/1000\n",
      "\u001b[1m32/32\u001b[0m \u001b[32m━━━━━━━━━━━━━━━━━━━━\u001b[0m\u001b[37m\u001b[0m \u001b[1m7s\u001b[0m 210ms/step - accuracy: 0.0463 - loss: 0.1506 - val_accuracy: 0.0826 - val_loss: 0.5632\n",
      "Epoch 6/1000\n",
      "\u001b[1m32/32\u001b[0m \u001b[32m━━━━━━━━━━━━━━━━━━━━\u001b[0m\u001b[37m\u001b[0m \u001b[1m7s\u001b[0m 214ms/step - accuracy: 0.0717 - loss: 0.1602 - val_accuracy: 0.0917 - val_loss: 0.8617\n",
      "Epoch 7/1000\n",
      "\u001b[1m32/32\u001b[0m \u001b[32m━━━━━━━━━━━━━━━━━━━━\u001b[0m\u001b[37m\u001b[0m \u001b[1m7s\u001b[0m 210ms/step - accuracy: 0.0743 - loss: 0.0167 - val_accuracy: 0.0917 - val_loss: 0.6616\n",
      "Epoch 8/1000\n",
      "\u001b[1m32/32\u001b[0m \u001b[32m━━━━━━━━━━━━━━━━━━━━\u001b[0m\u001b[37m\u001b[0m \u001b[1m7s\u001b[0m 209ms/step - accuracy: 0.1111 - loss: 0.0144 - val_accuracy: 0.1101 - val_loss: 0.4115\n",
      "Epoch 9/1000\n",
      "\u001b[1m32/32\u001b[0m \u001b[32m━━━━━━━━━━━━━━━━━━━━\u001b[0m\u001b[37m\u001b[0m \u001b[1m7s\u001b[0m 211ms/step - accuracy: 0.0870 - loss: 0.0093 - val_accuracy: 0.1193 - val_loss: 0.3709\n",
      "Epoch 10/1000\n",
      "\u001b[1m32/32\u001b[0m \u001b[32m━━━━━━━━━━━━━━━━━━━━\u001b[0m\u001b[37m\u001b[0m \u001b[1m7s\u001b[0m 215ms/step - accuracy: 0.1112 - loss: 0.0060 - val_accuracy: 0.1284 - val_loss: 0.3298\n",
      "Epoch 11/1000\n",
      "\u001b[1m32/32\u001b[0m \u001b[32m━━━━━━━━━━━━━━━━━━━━\u001b[0m\u001b[37m\u001b[0m \u001b[1m7s\u001b[0m 211ms/step - accuracy: 0.1021 - loss: 0.0049 - val_accuracy: 0.1468 - val_loss: 0.3474\n",
      "Epoch 12/1000\n",
      "\u001b[1m32/32\u001b[0m \u001b[32m━━━━━━━━━━━━━━━━━━━━\u001b[0m\u001b[37m\u001b[0m \u001b[1m7s\u001b[0m 211ms/step - accuracy: 0.1140 - loss: 0.0044 - val_accuracy: 0.1468 - val_loss: 0.3218\n",
      "Epoch 13/1000\n",
      "\u001b[1m32/32\u001b[0m \u001b[32m━━━━━━━━━━━━━━━━━━━━\u001b[0m\u001b[37m\u001b[0m \u001b[1m7s\u001b[0m 211ms/step - accuracy: 0.1092 - loss: 0.0029 - val_accuracy: 0.1468 - val_loss: 0.3144\n",
      "Epoch 14/1000\n",
      "\u001b[1m32/32\u001b[0m \u001b[32m━━━━━━━━━━━━━━━━━━━━\u001b[0m\u001b[37m\u001b[0m \u001b[1m7s\u001b[0m 216ms/step - accuracy: 0.1346 - loss: 0.0022 - val_accuracy: 0.1651 - val_loss: 0.2997\n",
      "Epoch 15/1000\n",
      "\u001b[1m32/32\u001b[0m \u001b[32m━━━━━━━━━━━━━━━━━━━━\u001b[0m\u001b[37m\u001b[0m \u001b[1m7s\u001b[0m 209ms/step - accuracy: 0.0875 - loss: 0.0027 - val_accuracy: 0.1468 - val_loss: 0.2915\n",
      "Epoch 16/1000\n",
      "\u001b[1m32/32\u001b[0m \u001b[32m━━━━━━━━━━━━━━━━━━━━\u001b[0m\u001b[37m\u001b[0m \u001b[1m7s\u001b[0m 211ms/step - accuracy: 0.1188 - loss: 0.0026 - val_accuracy: 0.1101 - val_loss: 0.3136\n",
      "Epoch 17/1000\n",
      "\u001b[1m32/32\u001b[0m \u001b[32m━━━━━━━━━━━━━━━━━━━━\u001b[0m\u001b[37m\u001b[0m \u001b[1m7s\u001b[0m 217ms/step - accuracy: 0.1336 - loss: 0.0016 - val_accuracy: 0.1468 - val_loss: 0.3083\n",
      "Epoch 18/1000\n",
      "\u001b[1m32/32\u001b[0m \u001b[32m━━━━━━━━━━━━━━━━━━━━\u001b[0m\u001b[37m\u001b[0m \u001b[1m7s\u001b[0m 211ms/step - accuracy: 0.1413 - loss: 0.0015 - val_accuracy: 0.1101 - val_loss: 0.2980\n",
      "Epoch 19/1000\n",
      "\u001b[1m32/32\u001b[0m \u001b[32m━━━━━━━━━━━━━━━━━━━━\u001b[0m\u001b[37m\u001b[0m \u001b[1m7s\u001b[0m 213ms/step - accuracy: 0.1384 - loss: 0.0013 - val_accuracy: 0.1284 - val_loss: 0.3146\n",
      "Epoch 20/1000\n",
      "\u001b[1m32/32\u001b[0m \u001b[32m━━━━━━━━━━━━━━━━━━━━\u001b[0m\u001b[37m\u001b[0m \u001b[1m7s\u001b[0m 213ms/step - accuracy: 0.1629 - loss: 0.0013 - val_accuracy: 0.1560 - val_loss: 0.2981\n",
      "Epoch 21/1000\n",
      "\u001b[1m32/32\u001b[0m \u001b[32m━━━━━━━━━━━━━━━━━━━━\u001b[0m\u001b[37m\u001b[0m \u001b[1m7s\u001b[0m 212ms/step - accuracy: 0.1480 - loss: 0.0012 - val_accuracy: 0.1284 - val_loss: 0.2984\n",
      "Epoch 22/1000\n",
      "\u001b[1m32/32\u001b[0m \u001b[32m━━━━━━━━━━━━━━━━━━━━\u001b[0m\u001b[37m\u001b[0m \u001b[1m7s\u001b[0m 212ms/step - accuracy: 0.1489 - loss: 0.0013 - val_accuracy: 0.1376 - val_loss: 0.3015\n",
      "Epoch 23/1000\n",
      "\u001b[1m32/32\u001b[0m \u001b[32m━━━━━━━━━━━━━━━━━━━━\u001b[0m\u001b[37m\u001b[0m \u001b[1m7s\u001b[0m 215ms/step - accuracy: 0.1756 - loss: 0.0012 - val_accuracy: 0.1193 - val_loss: 0.3014\n",
      "Epoch 24/1000\n",
      "\u001b[1m32/32\u001b[0m \u001b[32m━━━━━━━━━━━━━━━━━━━━\u001b[0m\u001b[37m\u001b[0m \u001b[1m7s\u001b[0m 221ms/step - accuracy: 0.1454 - loss: 0.0010 - val_accuracy: 0.1651 - val_loss: 0.3078\n",
      "Epoch 25/1000\n",
      "\u001b[1m32/32\u001b[0m \u001b[32m━━━━━━━━━━━━━━━━━━━━\u001b[0m\u001b[37m\u001b[0m \u001b[1m7s\u001b[0m 216ms/step - accuracy: 0.1759 - loss: 8.3989e-04 - val_accuracy: 0.1284 - val_loss: 0.2903\n",
      "Epoch 26/1000\n",
      "\u001b[1m32/32\u001b[0m \u001b[32m━━━━━━━━━━━━━━━━━━━━\u001b[0m\u001b[37m\u001b[0m \u001b[1m7s\u001b[0m 209ms/step - accuracy: 0.1665 - loss: 8.6087e-04 - val_accuracy: 0.1651 - val_loss: 0.3043\n",
      "Epoch 27/1000\n",
      "\u001b[1m32/32\u001b[0m \u001b[32m━━━━━━━━━━━━━━━━━━━━\u001b[0m\u001b[37m\u001b[0m \u001b[1m7s\u001b[0m 211ms/step - accuracy: 0.1717 - loss: 7.7333e-04 - val_accuracy: 0.1284 - val_loss: 0.2832\n",
      "Epoch 28/1000\n",
      "\u001b[1m32/32\u001b[0m \u001b[32m━━━━━━━━━━━━━━━━━━━━\u001b[0m\u001b[37m\u001b[0m \u001b[1m7s\u001b[0m 211ms/step - accuracy: 0.1640 - loss: 7.7876e-04 - val_accuracy: 0.1651 - val_loss: 0.2997\n",
      "Epoch 29/1000\n",
      "\u001b[1m32/32\u001b[0m \u001b[32m━━━━━━━━━━━━━━━━━━━━\u001b[0m\u001b[37m\u001b[0m \u001b[1m7s\u001b[0m 218ms/step - accuracy: 0.1920 - loss: 7.2533e-04 - val_accuracy: 0.1376 - val_loss: 0.3040\n",
      "Epoch 30/1000\n",
      "\u001b[1m32/32\u001b[0m \u001b[32m━━━━━━━━━━━━━━━━━━━━\u001b[0m\u001b[37m\u001b[0m \u001b[1m7s\u001b[0m 212ms/step - accuracy: 0.1760 - loss: 6.3507e-04 - val_accuracy: 0.1284 - val_loss: 0.2922\n",
      "Epoch 31/1000\n",
      "\u001b[1m32/32\u001b[0m \u001b[32m━━━━━━━━━━━━━━━━━━━━\u001b[0m\u001b[37m\u001b[0m \u001b[1m7s\u001b[0m 213ms/step - accuracy: 0.1687 - loss: 6.3193e-04 - val_accuracy: 0.1193 - val_loss: 0.3095\n",
      "Epoch 32/1000\n",
      "\u001b[1m32/32\u001b[0m \u001b[32m━━━━━━━━━━━━━━━━━━━━\u001b[0m\u001b[37m\u001b[0m \u001b[1m7s\u001b[0m 210ms/step - accuracy: 0.1892 - loss: 5.3347e-04 - val_accuracy: 0.1376 - val_loss: 0.2932\n",
      "Epoch 33/1000\n",
      "\u001b[1m32/32\u001b[0m \u001b[32m━━━━━━━━━━━━━━━━━━━━\u001b[0m\u001b[37m\u001b[0m \u001b[1m7s\u001b[0m 211ms/step - accuracy: 0.1792 - loss: 5.6986e-04 - val_accuracy: 0.1193 - val_loss: 0.3017\n",
      "Epoch 34/1000\n",
      "\u001b[1m32/32\u001b[0m \u001b[32m━━━━━━━━━━━━━━━━━━━━\u001b[0m\u001b[37m\u001b[0m \u001b[1m7s\u001b[0m 217ms/step - accuracy: 0.1944 - loss: 5.9877e-04 - val_accuracy: 0.1284 - val_loss: 0.2972\n",
      "Epoch 35/1000\n",
      "\u001b[1m32/32\u001b[0m \u001b[32m━━━━━━━━━━━━━━━━━━━━\u001b[0m\u001b[37m\u001b[0m \u001b[1m7s\u001b[0m 215ms/step - accuracy: 0.1688 - loss: 5.3986e-04 - val_accuracy: 0.1560 - val_loss: 0.2941\n",
      "Epoch 36/1000\n",
      "\u001b[1m32/32\u001b[0m \u001b[32m━━━━━━━━━━━━━━━━━━━━\u001b[0m\u001b[37m\u001b[0m \u001b[1m7s\u001b[0m 215ms/step - accuracy: 0.1966 - loss: 4.7306e-04 - val_accuracy: 0.1468 - val_loss: 0.2889\n",
      "Epoch 37/1000\n",
      "\u001b[1m32/32\u001b[0m \u001b[32m━━━━━━━━━━━━━━━━━━━━\u001b[0m\u001b[37m\u001b[0m \u001b[1m7s\u001b[0m 212ms/step - accuracy: 0.1670 - loss: 4.0463e-04 - val_accuracy: 0.1560 - val_loss: 0.2933\n",
      "Epoch 38/1000\n",
      "\u001b[1m32/32\u001b[0m \u001b[32m━━━━━━━━━━━━━━━━━━━━\u001b[0m\u001b[37m\u001b[0m \u001b[1m7s\u001b[0m 209ms/step - accuracy: 0.2114 - loss: 4.1170e-04 - val_accuracy: 0.1468 - val_loss: 0.2941\n",
      "Epoch 39/1000\n",
      "\u001b[1m32/32\u001b[0m \u001b[32m━━━━━━━━━━━━━━━━━━━━\u001b[0m\u001b[37m\u001b[0m \u001b[1m7s\u001b[0m 214ms/step - accuracy: 0.2182 - loss: 3.7270e-04 - val_accuracy: 0.1101 - val_loss: 0.2920\n",
      "Epoch 40/1000\n",
      "\u001b[1m32/32\u001b[0m \u001b[32m━━━━━━━━━━━━━━━━━━━━\u001b[0m\u001b[37m\u001b[0m \u001b[1m7s\u001b[0m 210ms/step - accuracy: 0.1782 - loss: 3.6430e-04 - val_accuracy: 0.1560 - val_loss: 0.2878\n",
      "Epoch 41/1000\n",
      "\u001b[1m32/32\u001b[0m \u001b[32m━━━━━━━━━━━━━━━━━━━━\u001b[0m\u001b[37m\u001b[0m \u001b[1m7s\u001b[0m 213ms/step - accuracy: 0.2092 - loss: 3.9232e-04 - val_accuracy: 0.1468 - val_loss: 0.2827\n",
      "Epoch 42/1000\n",
      "\u001b[1m32/32\u001b[0m \u001b[32m━━━━━━━━━━━━━━━━━━━━\u001b[0m\u001b[37m\u001b[0m \u001b[1m7s\u001b[0m 214ms/step - accuracy: 0.2149 - loss: 3.7736e-04 - val_accuracy: 0.1376 - val_loss: 0.2914\n",
      "Epoch 43/1000\n",
      "\u001b[1m32/32\u001b[0m \u001b[32m━━━━━━━━━━━━━━━━━━━━\u001b[0m\u001b[37m\u001b[0m \u001b[1m7s\u001b[0m 212ms/step - accuracy: 0.1806 - loss: 3.3961e-04 - val_accuracy: 0.1468 - val_loss: 0.2911\n",
      "Epoch 44/1000\n",
      "\u001b[1m32/32\u001b[0m \u001b[32m━━━━━━━━━━━━━━━━━━━━\u001b[0m\u001b[37m\u001b[0m \u001b[1m7s\u001b[0m 210ms/step - accuracy: 0.2217 - loss: 2.9971e-04 - val_accuracy: 0.1560 - val_loss: 0.2872\n",
      "Epoch 45/1000\n",
      "\u001b[1m32/32\u001b[0m \u001b[32m━━━━━━━━━━━━━━━━━━━━\u001b[0m\u001b[37m\u001b[0m \u001b[1m7s\u001b[0m 209ms/step - accuracy: 0.2529 - loss: 3.0829e-04 - val_accuracy: 0.1560 - val_loss: 0.3016\n",
      "Epoch 46/1000\n",
      "\u001b[1m32/32\u001b[0m \u001b[32m━━━━━━━━━━━━━━━━━━━━\u001b[0m\u001b[37m\u001b[0m \u001b[1m7s\u001b[0m 209ms/step - accuracy: 0.2246 - loss: 2.7480e-04 - val_accuracy: 0.1560 - val_loss: 0.2857\n",
      "Epoch 47/1000\n",
      "\u001b[1m32/32\u001b[0m \u001b[32m━━━━━━━━━━━━━━━━━━━━\u001b[0m\u001b[37m\u001b[0m \u001b[1m7s\u001b[0m 212ms/step - accuracy: 0.2157 - loss: 2.7773e-04 - val_accuracy: 0.1651 - val_loss: 0.2897\n",
      "Epoch 48/1000\n",
      "\u001b[1m32/32\u001b[0m \u001b[32m━━━━━━━━━━━━━━━━━━━━\u001b[0m\u001b[37m\u001b[0m \u001b[1m7s\u001b[0m 210ms/step - accuracy: 0.2405 - loss: 2.8433e-04 - val_accuracy: 0.1468 - val_loss: 0.2868\n",
      "Epoch 49/1000\n",
      "\u001b[1m32/32\u001b[0m \u001b[32m━━━━━━━━━━━━━━━━━━━━\u001b[0m\u001b[37m\u001b[0m \u001b[1m7s\u001b[0m 210ms/step - accuracy: 0.2390 - loss: 2.8226e-04 - val_accuracy: 0.1468 - val_loss: 0.2882\n",
      "Epoch 50/1000\n",
      "\u001b[1m32/32\u001b[0m \u001b[32m━━━━━━━━━━━━━━━━━━━━\u001b[0m\u001b[37m\u001b[0m \u001b[1m7s\u001b[0m 209ms/step - accuracy: 0.2153 - loss: 2.4282e-04 - val_accuracy: 0.1927 - val_loss: 0.2904\n",
      "Epoch 51/1000\n",
      "\u001b[1m32/32\u001b[0m \u001b[32m━━━━━━━━━━━━━━━━━━━━\u001b[0m\u001b[37m\u001b[0m \u001b[1m7s\u001b[0m 215ms/step - accuracy: 0.2670 - loss: 2.5105e-04 - val_accuracy: 0.1468 - val_loss: 0.2859\n",
      "Epoch 52/1000\n",
      "\u001b[1m32/32\u001b[0m \u001b[32m━━━━━━━━━━━━━━━━━━━━\u001b[0m\u001b[37m\u001b[0m \u001b[1m7s\u001b[0m 218ms/step - accuracy: 0.2702 - loss: 2.5120e-04 - val_accuracy: 0.1468 - val_loss: 0.2867\n",
      "Epoch 53/1000\n",
      "\u001b[1m32/32\u001b[0m \u001b[32m━━━━━━━━━━━━━━━━━━━━\u001b[0m\u001b[37m\u001b[0m \u001b[1m7s\u001b[0m 212ms/step - accuracy: 0.2619 - loss: 2.2805e-04 - val_accuracy: 0.1651 - val_loss: 0.2881\n",
      "Epoch 54/1000\n",
      "\u001b[1m32/32\u001b[0m \u001b[32m━━━━━━━━━━━━━━━━━━━━\u001b[0m\u001b[37m\u001b[0m \u001b[1m7s\u001b[0m 212ms/step - accuracy: 0.2403 - loss: 2.1878e-04 - val_accuracy: 0.1927 - val_loss: 0.2860\n",
      "Epoch 55/1000\n",
      "\u001b[1m32/32\u001b[0m \u001b[32m━━━━━━━━━━━━━━━━━━━━\u001b[0m\u001b[37m\u001b[0m \u001b[1m7s\u001b[0m 212ms/step - accuracy: 0.2536 - loss: 2.1907e-04 - val_accuracy: 0.2018 - val_loss: 0.2912\n",
      "Epoch 56/1000\n",
      "\u001b[1m32/32\u001b[0m \u001b[32m━━━━━━━━━━━━━━━━━━━━\u001b[0m\u001b[37m\u001b[0m \u001b[1m7s\u001b[0m 210ms/step - accuracy: 0.2920 - loss: 1.9911e-04 - val_accuracy: 0.1927 - val_loss: 0.2881\n",
      "Epoch 57/1000\n",
      "\u001b[1m32/32\u001b[0m \u001b[32m━━━━━━━━━━━━━━━━━━━━\u001b[0m\u001b[37m\u001b[0m \u001b[1m7s\u001b[0m 211ms/step - accuracy: 0.2799 - loss: 1.7827e-04 - val_accuracy: 0.1927 - val_loss: 0.2896\n",
      "Epoch 58/1000\n",
      "\u001b[1m32/32\u001b[0m \u001b[32m━━━━━━━━━━━━━━━━━━━━\u001b[0m\u001b[37m\u001b[0m \u001b[1m7s\u001b[0m 216ms/step - accuracy: 0.3181 - loss: 2.0854e-04 - val_accuracy: 0.1743 - val_loss: 0.2874\n",
      "Epoch 59/1000\n",
      "\u001b[1m32/32\u001b[0m \u001b[32m━━━━━━━━━━━━━━━━━━━━\u001b[0m\u001b[37m\u001b[0m \u001b[1m7s\u001b[0m 218ms/step - accuracy: 0.2883 - loss: 1.8434e-04 - val_accuracy: 0.1835 - val_loss: 0.2892\n",
      "Epoch 60/1000\n",
      "\u001b[1m32/32\u001b[0m \u001b[32m━━━━━━━━━━━━━━━━━━━━\u001b[0m\u001b[37m\u001b[0m \u001b[1m7s\u001b[0m 212ms/step - accuracy: 0.2920 - loss: 1.6187e-04 - val_accuracy: 0.1835 - val_loss: 0.2901\n",
      "Epoch 61/1000\n",
      "\u001b[1m32/32\u001b[0m \u001b[32m━━━━━━━━━━━━━━━━━━━━\u001b[0m\u001b[37m\u001b[0m \u001b[1m7s\u001b[0m 210ms/step - accuracy: 0.2542 - loss: 1.6275e-04 - val_accuracy: 0.2018 - val_loss: 0.2937\n",
      "Epoch 61: early stopping\n",
      "Restoring model weights from the end of the best epoch: 41.\n"
     ]
    }
   ],
   "source": [
    "model = create_cnn()\n",
    "\n",
    "model.compile(optimizer='adam', loss='binary_crossentropy', metrics=['accuracy'])\n",
    "\n",
    "early_stopping = tf.keras.callbacks.EarlyStopping(monitor='val_loss',\n",
    "                                                  patience=20,\n",
    "                                                  verbose=1,\n",
    "                                                  mode='min',\n",
    "                                                  restore_best_weights=True)\n",
    "\n",
    "# Step 2: Train the model using sample weights\n",
    "history = model.fit(\n",
    "    X_train,\n",
    "    y_train,\n",
    "    # =========================================================\n",
    "    sample_weight=sample_weights,  # Include the sample weights\n",
    "    # =========================================================\n",
    "    epochs=1000,\n",
    "    validation_data=[X_valid, y_valid],\n",
    "    callbacks=[early_stopping])"
   ]
  },
  {
   "cell_type": "code",
   "execution_count": 15,
   "metadata": {},
   "outputs": [
    {
     "data": {
      "text/plain": [
       "dict_keys(['accuracy', 'loss', 'val_accuracy', 'val_loss'])"
      ]
     },
     "execution_count": 15,
     "metadata": {},
     "output_type": "execute_result"
    }
   ],
   "source": [
    "history.history.keys()"
   ]
  },
  {
   "cell_type": "code",
   "execution_count": 16,
   "metadata": {
    "id": "DWLz_WrIwRn9"
   },
   "outputs": [
    {
     "data": {
      "image/png": "[encoded data removed]",
      "text/plain": [
       "<Figure size 1000x600 with 2 Axes>"
      ]
     },
     "metadata": {},
     "output_type": "display_data"
    }
   ],
   "source": [
    "def plot_loss_accuracy(history,best_epoch=early_stopping.best_epoch):\n",
    "    fig, (ax1,ax2) = plt.subplots(1,2,figsize=(10,6))\n",
    "    \n",
    "    ax1.plot(history.history['loss'],     label=\"Training Loss\")\n",
    "    ax1.plot(history.history['val_loss'], label=\"Validation Loss\")\n",
    "    ax1.set_ylabel(\"loss\")\n",
    "    ax1.set_xlabel(\"epoch\")\n",
    "    ax1.legend()\n",
    "    ax1.axvline(x=early_stopping.best_epoch, color='red', linestyle='--')\n",
    "    ax1.set_title(\"Loss Curve\")\n",
    "    \n",
    "    ax2.plot(history.history['accuracy'],     label=\"Training accuracy\")\n",
    "    ax2.plot(history.history['val_accuracy'], label=\"Validation accuracy\")\n",
    "    ax2.set_ylabel(\"accuracy\")\n",
    "    ax2.set_xlabel(\"epoch\")\n",
    "    ax2.legend()\n",
    "    ax2.axvline(x=early_stopping.best_epoch, color='red', linestyle='--')\n",
    "    ax2.set_title(\"accuracy Curve\")\n",
    "    \n",
    "    plt.show()\n",
    "\n",
    "plot_loss_accuracy(history,early_stopping.best_epoch)"
   ]
  },
  {
   "cell_type": "markdown",
   "metadata": {},
   "source": [
    "## Evaluate test dataset"
   ]
  },
  {
   "cell_type": "code",
   "execution_count": 17,
   "metadata": {},
   "outputs": [
    {
     "name": "stdout",
     "output_type": "stream",
     "text": [
      "\u001b[1m14/14\u001b[0m \u001b[32m━━━━━━━━━━━━━━━━━━━━\u001b[0m\u001b[37m\u001b[0m \u001b[1m1s\u001b[0m 53ms/step - accuracy: 0.0272 - loss: 0.9978\n",
      "loss: 0.8812\n",
      "accuracy: 0.0333\n"
     ]
    }
   ],
   "source": [
    "# Evaluate the model on the test set\n",
    "results = model.evaluate(X_test, y_test)\n",
    "\n",
    "# Assign labels to the results based on the order in which metrics are defined in model.compile\n",
    "metrics = ['loss', 'accuracy']\n",
    "\n",
    "# Print each metric with its corresponding label\n",
    "for metric, value in zip(metrics, results):\n",
    "    print(f\"{metric}: {value:.4f}\")"
   ]
  },
  {
   "cell_type": "markdown",
   "metadata": {},
   "source": [
    "# Custom Loss Function with Class Weights\n",
    "\n",
    "## neither worked"
   ]
  },
  {
   "cell_type": "raw",
   "metadata": {},
   "source": [
    "def get_weighted_loss(pos_weights, neg_weights, epsilon=1e-7):\n",
    "    \"\"\"\n",
    "    Create a custom weighted loss function.\n",
    "\n",
    "    Args:\n",
    "    - pos_weights: Weight for positive samples.\n",
    "    - neg_weights: Weight for negative samples.\n",
    "\n",
    "    Returns:\n",
    "    - A weighted loss function.\n",
    "    \"\"\"\n",
    "    def weighted_loss(y_true, y_pred):\n",
    "        # Calculate the proportion of positive and negative samples in the batch\n",
    "        # Use TensorFlow operations instead of NumPy operations\n",
    "        \n",
    "        # initialize loss to zero\n",
    "        loss = 0.0\n",
    "\n",
    "        # Calculate positive and negative weights\n",
    "#         w_p = np.sum(y_true == 0, axis=0) / y_true.shape[0]\n",
    "#         w_n = np.sum(y_true == 1, axis=0) / y_true.shape[0]\n",
    "\n",
    "        # Convert to keras-speak\n",
    "        import tensorflow.keras.backend as K\n",
    "\n",
    "        w_p = K.sum(K.cast(K.equal(y_true, 0), 'float32'), axis=0) / K.cast(K.shape(y_true)[0], 'float32')\n",
    "        w_n = K.sum(K.cast(K.equal(y_true, 1), 'float32'), axis=0) / K.cast(K.shape(y_true)[0], 'float32')\n",
    "        \n",
    "        for i in range(len(pos_weights)):\n",
    "            # for each class, add average weighted loss for that class \n",
    "            \n",
    "            pos = -1 * w_p * y_true * tf.keras.backend.log(y_pred + epsilon)\n",
    "            \n",
    "            neg = -1 * w_n * (1 - y_true) * tf.keras.backend.log((1 - y_pred + epsilon))\n",
    "            \n",
    "            loss += pos + neg\n",
    "            \n",
    "        return tf.keras.backend.mean(loss)\n",
    "            \n",
    "    \n",
    "    return weighted_loss"
   ]
  },
  {
   "cell_type": "raw",
   "metadata": {},
   "source": [
    "model = create_cnn()\n",
    "\n",
    "early_stopping = tf.keras.callbacks.EarlyStopping(monitor='val_loss',\n",
    "                                                  patience=10,\n",
    "                                                  verbose=1,\n",
    "                                                  mode='min',\n",
    "                                                  restore_best_weights=True)\n",
    "\n",
    "# Compile the model using the custom loss function\n",
    "model.compile(optimizer='adam', \n",
    "              # =========================================================\n",
    "              loss=get_weighted_loss(pos_weights, neg_weights), \n",
    "              # =========================================================\n",
    "              metrics=['accuracy'])\n",
    "\n",
    "# Train the model\n",
    "history = model.fit(\n",
    "    X_train,\n",
    "    y_train,\n",
    "    # ====================================================================\n",
    "    # # sample_weight=sample_weights,  # Optional: If using sample weights\n",
    "    # ====================================================================\n",
    "    epochs=1000,\n",
    "    validation_data=[X_valid, y_valid],\n",
    "    callbacks=[early_stopping])"
   ]
  },
  {
   "cell_type": "raw",
   "metadata": {},
   "source": [
    "# Define a custom loss function that uses class weights for multi-label classification\n",
    "# Define a custom loss function that uses class weights for multi-label classification\n",
    "def weighted_binary_crossentropy(y_true, y_pred):\n",
    "    # Initialize a variable to accumulate the weighted loss\n",
    "    weighted_loss = 0.0\n",
    "\n",
    "    # Calculate loss for each class and apply class weights\n",
    "    for i, label in enumerate(labels_numeric):\n",
    "        class_weights = class_weights_dict[label]\n",
    "\n",
    "        # Calculate class weights tensor and ensure it has the same dtype as y_pred\n",
    "        class_weight_tensor = tf.where(tf.equal(y_true[:, i], 1), class_weights[1], class_weights[0])\n",
    "        class_weight_tensor = tf.cast(class_weight_tensor, y_pred.dtype)  # Ensure same dtype\n",
    "\n",
    "        # Calculate binary cross-entropy loss for the class\n",
    "        bce = tf.keras.losses.binary_crossentropy(y_true[:, i], y_pred[:, i])\n",
    "\n",
    "        # Multiply by class weight and accumulate the loss\n",
    "        weighted_loss += class_weight_tensor * bce\n",
    "\n",
    "    # Return the average weighted loss over all classes\n",
    "    return tf.reduce_mean(weighted_loss)\n",
    "\n",
    "model = create_cnn()\n",
    "\n",
    "model.compile(optimizer='adam', loss='binary_crossentropy', metrics=['accuracy'])\n",
    "\n",
    "early_stopping = tf.keras.callbacks.EarlyStopping(monitor='val_loss',\n",
    "                                                  patience=10,\n",
    "                                                  verbose=1,\n",
    "                                                  mode='min',\n",
    "                                                  restore_best_weights=True)\n",
    "\n",
    "# Compile the model using the custom loss function\n",
    "model.compile(optimizer='adam', \n",
    "              # =========================================================\n",
    "              loss=weighted_binary_crossentropy, \n",
    "              # =========================================================\n",
    "              metrics=['accuracy'])\n",
    "\n",
    "# Train the model\n",
    "\n",
    "history = model.fit(\n",
    "    X_train,\n",
    "    y_train,\n",
    "    # ====================================================================\n",
    "    # # sample_weight=sample_weights,  # Optional: If using sample weights\n",
    "    # ====================================================================\n",
    "    epochs=1000,\n",
    "    validation_data=[X_valid, y_valid],\n",
    "    callbacks=[early_stopping])"
   ]
  },
  {
   "cell_type": "raw",
   "metadata": {},
   "source": [
    "plot_loss_accuracy(history,early_stopping.best_epoch)"
   ]
  },
  {
   "cell_type": "raw",
   "metadata": {},
   "source": [
    "# Evaluate the model on the test set\n",
    "results = model.evaluate(X_test, y_test)\n",
    "\n",
    "# Assign labels to the results based on the order in which metrics are defined in model.compile\n",
    "metrics = ['loss', 'accuracy']\n",
    "\n",
    "# Print each metric with its corresponding label\n",
    "for metric, value in zip(metrics, results):\n",
    "    print(f\"{metric}: {value:.4f}\")"
   ]
  },
  {
   "cell_type": "code",
   "execution_count": null,
   "metadata": {},
   "outputs": [],
   "source": []
  }
 ],
 "metadata": {
  "colab": {
   "provenance": []
  },
  "kernelspec": {
   "display_name": "Python [conda env:mac_gpu] *",
   "language": "python",
   "name": "conda-env-mac_gpu-py"
  },
  "language_info": {
   "codemirror_mode": {
    "name": "ipython",
    "version": 3
   },
   "file_extension": ".py",
   "mimetype": "text/x-python",
   "name": "python",
   "nbconvert_exporter": "python",
   "pygments_lexer": "ipython3",
   "version": "3.10.8"
  }
 },
 "nbformat": 4,
 "nbformat_minor": 4
}
